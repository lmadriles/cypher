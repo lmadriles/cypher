{
 "cells": [
  {
   "cell_type": "code",
   "execution_count": 23,
   "metadata": {},
   "outputs": [],
   "source": [
    "import numpy as np"
   ]
  },
  {
   "cell_type": "code",
   "execution_count": 100,
   "metadata": {},
   "outputs": [],
   "source": [
    "cripted = \"LAFLUIWOYWPADUFHSNBVSWVNDZQDUFRBPLUYQPLWLPHZRLUEDUBSYMIPRDIJHTYQUCUZYLKFRSKHZBUHULUEKPQFOYLYSSAMWOCWHZOLGDTDDPPOFDDTGOPYUDGWOYOSDRYKVVDVLAULRZYGWPLJZYQKYPTWVLJIAFHHSWOMUVDDAPLMJLUEPVLRNPDWFXWMQAFHZSEQCFAGQDFLJFLHLDSWCLMQLFXUBULBDUBVPVWFQHWYUHRHJGSOCUZZXAGFVLILQVAFDARKPQLZCQAGULJBUCZAMPL\"\n",
    "cripted = list(cripted)\n",
    "\n",
    "alphabet = 'ABCDEFGHIJKLMNOPQRSTUVWXYZ'\n",
    "alphabet = list(alphabet)"
   ]
  },
  {
   "cell_type": "code",
   "execution_count": 64,
   "metadata": {},
   "outputs": [
    {
     "data": {
      "text/plain": [
       "str"
      ]
     },
     "execution_count": 64,
     "metadata": {},
     "output_type": "execute_result"
    }
   ],
   "source": [
    "type(cripted[i])"
   ]
  },
  {
   "cell_type": "code",
   "execution_count": null,
   "metadata": {},
   "outputs": [],
   "source": [
    "eng_freq = {'E': 0.123, 'T': 0.096, 'A': 0.081, 'O': 0.079, 'N': 0.072, 'I':0.072, 'S': 0.066, 'R': 0.06, 'H': 0.051, 'L': 0.04, 'D': 0.037,\n",
    "       'C': 0.032, 'U': 0.031, 'P': 0.023, 'F': 0.023, 'M': 0.023, 'W': 0.02, 'Y': 0.019, 'B':0.016, 'G': 0.016, 'V': 0.009,\n",
    "       'K': 0.005, 'Q': 0.002, 'X': 0.002, 'J': 0.001, 'Z': 0.001}\n",
    "\n",
    "morse = {'A':'.-', 'B': '-...',  'C': '-.-.', 'D': '-..', 'E': '.', 'F': '..-.', 'G': '--.',\n",
    "         'H': '....', 'I': '..', 'J': '.---', 'K': '-.-', 'L': '.-..', 'M': '--', 'N': '-.', 'O': '---',\n",
    "         'P': '.--.', 'Q': '--.-', 'R': '.-.', 'S': '...', 'T': '-', 'U': '..-', 'V': '...-', 'W': '.--',\n",
    "         'X': '-..-', 'Y': '-.--', 'Z': '--..'}"
   ]
  },
  {
   "cell_type": "code",
   "execution_count": null,
   "metadata": {},
   "outputs": [],
   "source": []
  },
  {
   "cell_type": "code",
   "execution_count": 91,
   "metadata": {},
   "outputs": [],
   "source": [
    "lines = 41\n",
    "group = np.empty((41,7), dtype = str)"
   ]
  },
  {
   "cell_type": "code",
   "execution_count": 92,
   "metadata": {},
   "outputs": [],
   "source": [
    "for i in range(287):\n",
    "    for j in range(7):\n",
    "        if i % 7 == j:\n",
    "            group[i//7][j] = cripted[i]\n",
    "            break"
   ]
  },
  {
   "cell_type": "code",
   "execution_count": 113,
   "metadata": {
    "collapsed": true
   },
   "outputs": [
    {
     "name": "stdout",
     "output_type": "stream",
     "text": [
      "A 7.317073170731707\n",
      "B 4.878048780487805\n",
      "C 4.878048780487805\n",
      "D 4.878048780487805\n",
      "E 2.4390243902439024\n",
      "F 4.878048780487805\n",
      "G 2.4390243902439024\n",
      "H 4.878048780487805\n",
      "I 2.4390243902439024\n",
      "J 2.4390243902439024\n",
      "K 0.0\n",
      "L 14.634146341463413\n",
      "M 2.4390243902439024\n",
      "N 0.0\n",
      "O 4.878048780487805\n",
      "P 9.75609756097561\n",
      "Q 0.0\n",
      "R 0.0\n",
      "S 2.4390243902439024\n",
      "T 0.0\n",
      "U 7.317073170731707\n",
      "V 4.878048780487805\n",
      "W 2.4390243902439024\n",
      "X 0.0\n",
      "Y 4.878048780487805\n",
      "Z 4.878048780487805\n"
     ]
    }
   ],
   "source": [
    "for item in alphabet:\n",
    "    count = 0\n",
    "    for element in group[:,6]:\n",
    "        if item == element:\n",
    "            count += 1\n",
    "    count = count/41 * 100\n",
    "    print(item +\" \" +  str(count))\n"
   ]
  },
  {
   "cell_type": "code",
   "execution_count": null,
   "metadata": {},
   "outputs": [],
   "source": [
    "def rotate(key):\n",
    "    dict = {}\n",
    "    for i in \n",
    "        dict['A'][i-1] = alphabet[i]\n",
    "    \n",
    "    return key"
   ]
  },
  {
   "cell_type": "code",
   "execution_count": null,
   "metadata": {},
   "outputs": [],
   "source": [
    "def rotate(entra, sai):\n",
    "    dict = {}\n",
    "    for i in \n",
    "        dict['A'][i-1] = alphabet[i]\n",
    "    \n",
    "    return key"
   ]
  },
  {
   "cell_type": "code",
   "execution_count": null,
   "metadata": {},
   "outputs": [],
   "source": [
    "def rotate(input,d):\n",
    "   Lfirst = input[0 : d]\n",
    "   Lsecond = input[d :]\n",
    "   saida=(Lsecond + Lfirst)\n",
    "   return saida\n",
    "\n",
    "\n",
    "str=\"ABCDEFGHIJKLMNOPQRSTUVWXYZ\"\n",
    "saida=\"\"\n",
    "tudo={}\n",
    "\n",
    "for d in range(1,27):\n",
    "    saida=rotate(str,d)\n",
    "    tudo[str[d-1]]=saida"
   ]
  }
 ],
 "metadata": {
  "kernelspec": {
   "display_name": "Python 3",
   "language": "python",
   "name": "python3"
  },
  "language_info": {
   "codemirror_mode": {
    "name": "ipython",
    "version": 3
   },
   "file_extension": ".py",
   "mimetype": "text/x-python",
   "name": "python",
   "nbconvert_exporter": "python",
   "pygments_lexer": "ipython3",
   "version": "3.8.8"
  }
 },
 "nbformat": 4,
 "nbformat_minor": 4
}
